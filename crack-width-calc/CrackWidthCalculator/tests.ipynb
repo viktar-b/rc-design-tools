{
 "metadata": {
  "language_info": {
   "codemirror_mode": {
    "name": "ipython",
    "version": 3
   },
   "file_extension": ".py",
   "mimetype": "text/x-python",
   "name": "python",
   "nbconvert_exporter": "python",
   "pygments_lexer": "ipython3",
   "version": "3.7.1-final"
  },
  "orig_nbformat": 2,
  "kernelspec": {
   "name": "python3",
   "display_name": "Python 3.7.1 64-bit (conda)",
   "metadata": {
    "interpreter": {
     "hash": "ebcbde8dcad2b1bcea16ab710c600f81c07e1120f27e8418223ef181555f4f9b"
    }
   }
  }
 },
 "nbformat": 4,
 "nbformat_minor": 2,
 "cells": [
  {
   "cell_type": "code",
   "execution_count": 1,
   "metadata": {},
   "outputs": [
    {
     "output_type": "stream",
     "name": "stdout",
     "text": [
      "f_ck = 35.00\nf_av = 16.07\nf_cm = 43.00\nf_ctm = 3.21\nE_cm = 34077.15\nf_cd_flexural = 19.83\nf_cd_shear = 23.33\nf_ctd = 1.50\n\n"
     ]
    }
   ],
   "source": [
    "from CrackWidthCalculator import ConcreteProperties\n",
    "\n",
    "c_nom_tension = 65\n",
    "c_nom_compression = 50\n",
    "c_dur = 55\n",
    "moment = 1100\n",
    "rf_diameter_first_layer = 25 \n",
    "rf_spacing_first_layer = 125\n",
    "rf_diameter_second_layer = 20\n",
    "rf_spacing_second_layer = 125 \n",
    "rf_diameter_third_layer = 0\n",
    "rf_spacing_third_layer = 0 \n",
    "\n",
    "\n",
    "#the class is isntantiated by the section properties since concrete grade is assumned to be constant for now \n",
    "concrete = ConcreteProperties(35)\n",
    "print(concrete.to_string())"
   ]
  },
  {
   "cell_type": "code",
   "execution_count": 2,
   "metadata": {},
   "outputs": [
    {
     "output_type": "stream",
     "name": "stdout",
     "text": [
      "steel_area_tension = 6440.26\ndepth_to_centroid = 653.96\n\n"
     ]
    }
   ],
   "source": [
    "from CrackWidthCalculator import SectionProperties\n",
    "\n",
    "section = SectionProperties(\n",
    "    c_nom_tension,\n",
    "    c_nom_compression,\n",
    "    c_dur,\n",
    "    rf_diameter_first_layer,\n",
    "    rf_spacing_first_layer,\n",
    "    rf_diameter_second_layer,\n",
    "    rf_spacing_second_layer,\n",
    "    rf_diameter_third_layer,\n",
    "    rf_spacing_third_layer \n",
    ")\n",
    "\n",
    "print(section.to_string())\n"
   ]
  },
  {
   "cell_type": "code",
   "execution_count": 3,
   "metadata": {},
   "outputs": [
    {
     "output_type": "stream",
     "name": "stdout",
     "text": [
      "E_ceff_short_term = 34077.15\nd_c_st = 187.74\nI_cracked_short_term = 1775705682.23\nE_ceff_long_term = 15105.12\nd_c_lt = 259.40\nI_cracked_long_term = 1442045303.68\nlongterm_sigma_s = 300.99\n\n"
     ]
    }
   ],
   "source": [
    "from CrackWidthCalculator import ServiceabilityChecks\n",
    "\n",
    "\n",
    "\n",
    "serviceability_checks = ServiceabilityChecks(section, moment)\n",
    "print(serviceability_checks.to_string())"
   ]
  },
  {
   "cell_type": "code",
   "execution_count": 4,
   "metadata": {},
   "outputs": [
    {
     "output_type": "stream",
     "name": "stdout",
     "text": [
      "rho_eff = 0.0402\nequivalent_diameter = 22.78\ns_rmax = 283.32\ne_sm_minus_e_cm = 0.00\ncrack_width = 0.37\n\n"
     ]
    }
   ],
   "source": [
    "from CrackWidthCalculator import CrackWidthCalc\n",
    "\n",
    "crack_width_calc = CrackWidthCalc(serviceability_checks)\n",
    "print(crack_width_calc.to_string())"
   ]
  },
  {
   "cell_type": "code",
   "execution_count": 8,
   "metadata": {},
   "outputs": [
    {
     "output_type": "stream",
     "name": "stdout",
     "text": [
      "0.3704623592119508\n"
     ]
    }
   ],
   "source": [
    "from CrackWidthCalculator import get_crack_width\n",
    "\n",
    "print(get_crack_width(\n",
    "     65,\n",
    "     50,\n",
    "     55,\n",
    "    1100,\n",
    "    rf_diameter_first_layer = 25 ,\n",
    "    rf_spacing_first_layer = 125,\n",
    "    rf_diameter_second_layer = 25,\n",
    "    rf_spacing_second_layer = 125 ,\n",
    "))"
   ]
  },
  {
   "cell_type": "code",
   "execution_count": null,
   "metadata": {},
   "outputs": [],
   "source": []
  }
 ]
}