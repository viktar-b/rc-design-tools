{
 "metadata": {
  "language_info": {
   "codemirror_mode": {
    "name": "ipython",
    "version": 3
   },
   "file_extension": ".py",
   "mimetype": "text/x-python",
   "name": "python",
   "nbconvert_exporter": "python",
   "pygments_lexer": "ipython3",
   "version": "3.7.1-final"
  },
  "orig_nbformat": 2,
  "kernelspec": {
   "name": "python3",
   "display_name": "Python 3",
   "language": "python"
  }
 },
 "nbformat": 4,
 "nbformat_minor": 2,
 "cells": [
  {
   "source": [
    "<h1> RC nominal cover calculator "
   ],
   "cell_type": "markdown",
   "metadata": {}
  },
  {
   "cell_type": "code",
   "execution_count": 2,
   "metadata": {},
   "outputs": [
    {
     "output_type": "execute_result",
     "data": {
      "text/plain": [
       "              element_name  is_buried  road_zone  road_type element_type  \\\n",
       "0  bottom slab/inner layer      False        NaN        NaN   horizontal   \n",
       "1  bottom slab/outer layer       True        NaN        NaN   horizontal   \n",
       "2         wall/inner layer      False        NaN        NaN     vertical   \n",
       "3         wall/outer layer       True        NaN        NaN     vertical   \n",
       "4   upper slab/inner layer      False        NaN        NaN   horizontal   \n",
       "5   upper slab/outer layer       True        NaN        NaN   horizontal   \n",
       "6       column/inner layer      False        NaN        NaN     vertical   \n",
       "\n",
       "  humidity_level concrete_class  is_consequence_class_three  is_racc  is_drcm  \\\n",
       "0         cyclic         c35/45                        True    False    False   \n",
       "1            NaN         c35/45                        True    False    False   \n",
       "2         cyclic         c35/45                        True    False    False   \n",
       "3            NaN         c35/45                        True    False    False   \n",
       "4         cyclic         c35/45                        True    False    False   \n",
       "5            NaN         c35/45                        True    False    False   \n",
       "6         cyclic         c35/45                        True    False    False   \n",
       "\n",
       "   is_prestressed  is_corrosion_inhibitor  is_cpf  is_stainless_steel  \n",
       "0           False                   False   False               False  \n",
       "1           False                   False   False               False  \n",
       "2           False                   False   False               False  \n",
       "3           False                   False   False               False  \n",
       "4           False                   False   False               False  \n",
       "5           False                   False   False               False  \n",
       "6           False                   False   False               False  "
      ],
      "text/html": "<div>\n<style scoped>\n    .dataframe tbody tr th:only-of-type {\n        vertical-align: middle;\n    }\n\n    .dataframe tbody tr th {\n        vertical-align: top;\n    }\n\n    .dataframe thead th {\n        text-align: right;\n    }\n</style>\n<table border=\"1\" class=\"dataframe\">\n  <thead>\n    <tr style=\"text-align: right;\">\n      <th></th>\n      <th>element_name</th>\n      <th>is_buried</th>\n      <th>road_zone</th>\n      <th>road_type</th>\n      <th>element_type</th>\n      <th>humidity_level</th>\n      <th>concrete_class</th>\n      <th>is_consequence_class_three</th>\n      <th>is_racc</th>\n      <th>is_drcm</th>\n      <th>is_prestressed</th>\n      <th>is_corrosion_inhibitor</th>\n      <th>is_cpf</th>\n      <th>is_stainless_steel</th>\n    </tr>\n  </thead>\n  <tbody>\n    <tr>\n      <th>0</th>\n      <td>bottom slab/inner layer</td>\n      <td>False</td>\n      <td>NaN</td>\n      <td>NaN</td>\n      <td>horizontal</td>\n      <td>cyclic</td>\n      <td>c35/45</td>\n      <td>True</td>\n      <td>False</td>\n      <td>False</td>\n      <td>False</td>\n      <td>False</td>\n      <td>False</td>\n      <td>False</td>\n    </tr>\n    <tr>\n      <th>1</th>\n      <td>bottom slab/outer layer</td>\n      <td>True</td>\n      <td>NaN</td>\n      <td>NaN</td>\n      <td>horizontal</td>\n      <td>NaN</td>\n      <td>c35/45</td>\n      <td>True</td>\n      <td>False</td>\n      <td>False</td>\n      <td>False</td>\n      <td>False</td>\n      <td>False</td>\n      <td>False</td>\n    </tr>\n    <tr>\n      <th>2</th>\n      <td>wall/inner layer</td>\n      <td>False</td>\n      <td>NaN</td>\n      <td>NaN</td>\n      <td>vertical</td>\n      <td>cyclic</td>\n      <td>c35/45</td>\n      <td>True</td>\n      <td>False</td>\n      <td>False</td>\n      <td>False</td>\n      <td>False</td>\n      <td>False</td>\n      <td>False</td>\n    </tr>\n    <tr>\n      <th>3</th>\n      <td>wall/outer layer</td>\n      <td>True</td>\n      <td>NaN</td>\n      <td>NaN</td>\n      <td>vertical</td>\n      <td>NaN</td>\n      <td>c35/45</td>\n      <td>True</td>\n      <td>False</td>\n      <td>False</td>\n      <td>False</td>\n      <td>False</td>\n      <td>False</td>\n      <td>False</td>\n    </tr>\n    <tr>\n      <th>4</th>\n      <td>upper slab/inner layer</td>\n      <td>False</td>\n      <td>NaN</td>\n      <td>NaN</td>\n      <td>horizontal</td>\n      <td>cyclic</td>\n      <td>c35/45</td>\n      <td>True</td>\n      <td>False</td>\n      <td>False</td>\n      <td>False</td>\n      <td>False</td>\n      <td>False</td>\n      <td>False</td>\n    </tr>\n    <tr>\n      <th>5</th>\n      <td>upper slab/outer layer</td>\n      <td>True</td>\n      <td>NaN</td>\n      <td>NaN</td>\n      <td>horizontal</td>\n      <td>NaN</td>\n      <td>c35/45</td>\n      <td>True</td>\n      <td>False</td>\n      <td>False</td>\n      <td>False</td>\n      <td>False</td>\n      <td>False</td>\n      <td>False</td>\n    </tr>\n    <tr>\n      <th>6</th>\n      <td>column/inner layer</td>\n      <td>False</td>\n      <td>NaN</td>\n      <td>NaN</td>\n      <td>vertical</td>\n      <td>cyclic</td>\n      <td>c35/45</td>\n      <td>True</td>\n      <td>False</td>\n      <td>False</td>\n      <td>False</td>\n      <td>False</td>\n      <td>False</td>\n      <td>False</td>\n    </tr>\n  </tbody>\n</table>\n</div>"
     },
     "metadata": {},
     "execution_count": 2
    }
   ],
   "source": [
    "import pandas as pd \n",
    "from rcdesign import FormatChecker \n",
    "\n",
    "df = pd.read_excel('cc-input.xlsx', sheet_name='input-values')\n",
    "df = FormatChecker.format(df)\n",
    "df"
   ]
  },
  {
   "cell_type": "code",
   "execution_count": 3,
   "metadata": {},
   "outputs": [],
   "source": [
    "from rcdesign import get_nominal_covers\n",
    "\n",
    "CoverDF = get_nominal_covers(df)"
   ]
  },
  {
   "cell_type": "code",
   "execution_count": 4,
   "metadata": {},
   "outputs": [
    {
     "output_type": "execute_result",
     "data": {
      "text/plain": [
       "    XD   XC   XF critical_exposure c_dur_min c_dur_y c_dur_ci c_dur_cpf  \\\n",
       "0  NaN  XC4  XF3               XC4        35       5        0         0   \n",
       "1  NaN  XC2  NaN               XC2        25       5        0         0   \n",
       "2  NaN  XC4  XF1               XC4        35       5        0         0   \n",
       "3  NaN  XC2  NaN               XC2        25       5        0         0   \n",
       "4  NaN  XC4  XF3               XC4        35       5        0         0   \n",
       "5  NaN  XC2  NaN               XC2        25       5        0         0   \n",
       "6  NaN  XC4  XF1               XC4        35       5        0         0   \n",
       "\n",
       "  c_dur_racc c_dur_drcm sum_c_dur bar_diameter maximum c_dev final_cover  \n",
       "0          0          0        40            0       0     0           0  \n",
       "1          0          0        30            0       0     0           0  \n",
       "2          0          0        40            0       0     0           0  \n",
       "3          0          0        30            0       0     0           0  \n",
       "4          0          0        40            0       0     0           0  \n",
       "5          0          0        30            0       0     0           0  \n",
       "6          0          0        40            0       0     0           0  "
      ],
      "text/html": "<div>\n<style scoped>\n    .dataframe tbody tr th:only-of-type {\n        vertical-align: middle;\n    }\n\n    .dataframe tbody tr th {\n        vertical-align: top;\n    }\n\n    .dataframe thead th {\n        text-align: right;\n    }\n</style>\n<table border=\"1\" class=\"dataframe\">\n  <thead>\n    <tr style=\"text-align: right;\">\n      <th></th>\n      <th>XD</th>\n      <th>XC</th>\n      <th>XF</th>\n      <th>critical_exposure</th>\n      <th>c_dur_min</th>\n      <th>c_dur_y</th>\n      <th>c_dur_ci</th>\n      <th>c_dur_cpf</th>\n      <th>c_dur_racc</th>\n      <th>c_dur_drcm</th>\n      <th>sum_c_dur</th>\n      <th>bar_diameter</th>\n      <th>maximum</th>\n      <th>c_dev</th>\n      <th>final_cover</th>\n    </tr>\n  </thead>\n  <tbody>\n    <tr>\n      <th>0</th>\n      <td>NaN</td>\n      <td>XC4</td>\n      <td>XF3</td>\n      <td>XC4</td>\n      <td>35</td>\n      <td>5</td>\n      <td>0</td>\n      <td>0</td>\n      <td>0</td>\n      <td>0</td>\n      <td>40</td>\n      <td>0</td>\n      <td>0</td>\n      <td>0</td>\n      <td>0</td>\n    </tr>\n    <tr>\n      <th>1</th>\n      <td>NaN</td>\n      <td>XC2</td>\n      <td>NaN</td>\n      <td>XC2</td>\n      <td>25</td>\n      <td>5</td>\n      <td>0</td>\n      <td>0</td>\n      <td>0</td>\n      <td>0</td>\n      <td>30</td>\n      <td>0</td>\n      <td>0</td>\n      <td>0</td>\n      <td>0</td>\n    </tr>\n    <tr>\n      <th>2</th>\n      <td>NaN</td>\n      <td>XC4</td>\n      <td>XF1</td>\n      <td>XC4</td>\n      <td>35</td>\n      <td>5</td>\n      <td>0</td>\n      <td>0</td>\n      <td>0</td>\n      <td>0</td>\n      <td>40</td>\n      <td>0</td>\n      <td>0</td>\n      <td>0</td>\n      <td>0</td>\n    </tr>\n    <tr>\n      <th>3</th>\n      <td>NaN</td>\n      <td>XC2</td>\n      <td>NaN</td>\n      <td>XC2</td>\n      <td>25</td>\n      <td>5</td>\n      <td>0</td>\n      <td>0</td>\n      <td>0</td>\n      <td>0</td>\n      <td>30</td>\n      <td>0</td>\n      <td>0</td>\n      <td>0</td>\n      <td>0</td>\n    </tr>\n    <tr>\n      <th>4</th>\n      <td>NaN</td>\n      <td>XC4</td>\n      <td>XF3</td>\n      <td>XC4</td>\n      <td>35</td>\n      <td>5</td>\n      <td>0</td>\n      <td>0</td>\n      <td>0</td>\n      <td>0</td>\n      <td>40</td>\n      <td>0</td>\n      <td>0</td>\n      <td>0</td>\n      <td>0</td>\n    </tr>\n    <tr>\n      <th>5</th>\n      <td>NaN</td>\n      <td>XC2</td>\n      <td>NaN</td>\n      <td>XC2</td>\n      <td>25</td>\n      <td>5</td>\n      <td>0</td>\n      <td>0</td>\n      <td>0</td>\n      <td>0</td>\n      <td>30</td>\n      <td>0</td>\n      <td>0</td>\n      <td>0</td>\n      <td>0</td>\n    </tr>\n    <tr>\n      <th>6</th>\n      <td>NaN</td>\n      <td>XC4</td>\n      <td>XF1</td>\n      <td>XC4</td>\n      <td>35</td>\n      <td>5</td>\n      <td>0</td>\n      <td>0</td>\n      <td>0</td>\n      <td>0</td>\n      <td>40</td>\n      <td>0</td>\n      <td>0</td>\n      <td>0</td>\n      <td>0</td>\n    </tr>\n  </tbody>\n</table>\n</div>"
     },
     "metadata": {},
     "execution_count": 4
    }
   ],
   "source": [
    "CoverDF "
   ]
  },
  {
   "source": [
    "<h3> save file to the same directory "
   ],
   "cell_type": "markdown",
   "metadata": {}
  },
  {
   "cell_type": "code",
   "execution_count": 5,
   "metadata": {},
   "outputs": [],
   "source": [
    "CoverDF.to_csv(\"cc-output.csv\")"
   ]
  },
  {
   "cell_type": "code",
   "execution_count": null,
   "metadata": {},
   "outputs": [],
   "source": []
  }
 ]
}